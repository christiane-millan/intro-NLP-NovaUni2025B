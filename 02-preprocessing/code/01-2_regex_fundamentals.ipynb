{
 "cells": [
  {
   "cell_type": "markdown",
   "metadata": {},
   "source": [
    "# Fundamentos de regex\n",
    "\n",
    "## El carácter de nueva línea\n",
    "\n",
    "El carácter creado por presionar la tecla enter o return es frecuentemente referido como carácter de nueva línea. Este se representa como `\\n` en sintaxis de regex.\n",
    "\n",
    "**Nota**: Algunos sistemas operativos y versiones de regex tratan el carácter de nueva línea como `\\r`.\n",
    "\n"
   ]
  },
  {
   "cell_type": "code",
   "execution_count": 2,
   "metadata": {},
   "outputs": [
    {
     "name": "stdout",
     "output_type": "stream",
     "text": [
      "Hello\n",
      "world\n"
     ]
    }
   ],
   "source": [
    "# reemplazar , por \\n\n",
    "\n",
    "import re\n",
    "text = \"Hello,world\"\n",
    "\n",
    "new_text = re.sub(',', r'\\n', text)\n",
    "print(new_text)"
   ]
  },
  {
   "cell_type": "markdown",
   "metadata": {},
   "source": [
    "Encontrar el espaciado doble"
   ]
  },
  {
   "cell_type": "code",
   "execution_count": 3,
   "metadata": {},
   "outputs": [
    {
     "name": "stdout",
     "output_type": "stream",
     "text": [
      "The quick brown fox jumps over the lazy dog\n"
     ]
    }
   ],
   "source": [
    "some_text = \"\"\"\n",
    "The quick brown \n",
    "fox jumps over the \n",
    "lazy dog\n",
    "\"\"\"\n",
    "\n",
    "new_some_text = re.sub('\\n', '', some_text)\n",
    "print(new_some_text)\n"
   ]
  },
  {
   "cell_type": "code",
   "execution_count": 4,
   "metadata": {},
   "outputs": [
    {
     "name": "stdout",
     "output_type": "stream",
     "text": [
      "\n",
      "The quick brown \n",
      "fox jumps over the \n",
      "lazy dog\n",
      "\n"
     ]
    }
   ],
   "source": [
    "some_text = \"\"\"\n",
    "The quick brown \n",
    "fox jumps over the \n",
    "lazy dog\n",
    "\"\"\"\n",
    "\n",
    "new_some_text = re.sub('\\n\\n', '\\n', some_text)\n",
    "print(new_some_text)"
   ]
  },
  {
   "cell_type": "markdown",
   "metadata": {},
   "source": [
    "## Correspondencia de uno o más "
   ]
  },
  {
   "cell_type": "code",
   "execution_count": 5,
   "metadata": {},
   "outputs": [
    {
     "name": "stdout",
     "output_type": "stream",
     "text": [
      "\n",
      "Dear Mr. Stanley\n",
      "I don't know how to answer your question - I see no contradiction.\n",
      "\n",
      "All you have to do is, from time to time -- in spite of everything, \n",
      "just try to examine a problem in a novel way.\n",
      "\n",
      "\n",
      "You won't \"stifle the creative process\" if you remember to think\n",
      "from time to time. Don't you have time to think?\n",
      "\n"
     ]
    }
   ],
   "source": [
    "letter = '''\n",
    "Dear Mr. Stanley\n",
    "\n",
    "I don't know how to answer your question - I see no contradiction.\n",
    "\n",
    "\n",
    "All you have to do is, from time to time -- in spite of everything, \n",
    "just try to examine a problem in a novel way.\n",
    "\n",
    "\n",
    "\n",
    "\n",
    "You won't \"stifle the creative process\" if you remember to think\n",
    "from time to time. Don't you have time to think?\n",
    "'''\n",
    "\n",
    "new_letter = re.sub('\\n\\n', '\\n', letter)\n",
    "print(new_letter)"
   ]
  },
  {
   "cell_type": "markdown",
   "metadata": {},
   "source": [
    "El operador *plus*\n",
    "\n",
    "El operador `+` es utilizado para coincidir uno o más instancias de un patrón que procede. Por ejemplo:\n",
    "\n",
    "```text\n",
    "a+\n",
    "```\n",
    "\n",
    "corresponde a cualquier ocurrencia de uno o más letras consecutivas `a`, sea `a`, `aa` o `aaaaaaa`.\n",
    "\n"
   ]
  },
  {
   "cell_type": "code",
   "execution_count": 6,
   "metadata": {},
   "outputs": [
    {
     "name": "stdout",
     "output_type": "stream",
     "text": [
      "\n",
      "Dear Mr. Stanley\n",
      "I don't know how to answer your question - I see no contradiction.\n",
      "All you have to do is, from time to time -- in spite of everything, \n",
      "just try to examine a problem in a novel way.\n",
      "You won't \"stifle the creative process\" if you remember to think\n",
      "from time to time. Don't you have time to think?\n",
      "\n"
     ]
    }
   ],
   "source": [
    "new_letter = re.sub('\\n+', '\\n', letter)\n",
    "print(new_letter)"
   ]
  },
  {
   "cell_type": "markdown",
   "metadata": {},
   "source": [
    "Ejemplo html"
   ]
  },
  {
   "cell_type": "code",
   "execution_count": 7,
   "metadata": {},
   "outputs": [],
   "source": [
    "html = \"\"\"\n",
    "<html>\n",
    "    <head>\n",
    "    </head>\n",
    "    <body>\n",
    "        <h1>This is a headline</h1>\n",
    "        <hr>\n",
    "        <p>This is                                                paragraph\n",
    "\n",
    "                    text\n",
    "\n",
    "\n",
    "                    used as                           filler text\n",
    "                            for\n",
    "                                        a\n",
    "                    paragraph.\n",
    "\n",
    "                    </p>\n",
    "    </body>\n",
    "</html>\n",
    "\"\"\""
   ]
  },
  {
   "cell_type": "markdown",
   "metadata": {},
   "source": [
    "Después de una extracción de datos con web scraping"
   ]
  },
  {
   "cell_type": "code",
   "execution_count": 8,
   "metadata": {},
   "outputs": [
    {
     "data": {
      "text/plain": [
       "' This is                                                paragraph                     text                     used as                           filler text                             for                                         a                     paragraph.                      '"
      ]
     },
     "execution_count": 8,
     "metadata": {},
     "output_type": "execute_result"
    }
   ],
   "source": [
    "text = \"\"\"\n",
    "This is                                                paragraph\n",
    "\n",
    "                    text\n",
    "\n",
    "\n",
    "                    used as                           filler text\n",
    "                            for\n",
    "                                        a\n",
    "                    paragraph.\n",
    "\n",
    "                    \n",
    "\"\"\"\n",
    "\n",
    "re.sub(r'\\n+', ' ', text)"
   ]
  },
  {
   "cell_type": "markdown",
   "metadata": {},
   "source": [
    "Para resolver los espacios en blanco, se utilizar el mismo el mismo patrón, pero en lugar de `\\n`, se utiliza un espacio en blanco.\n",
    "\n",
    "## Barra invertida\n",
    "\n",
    "La mayoría de los lenguajes regex tienen un símbolo que maneja tanto espacios en blanco como caracteres de nuevas líneas: `\\s`."
   ]
  },
  {
   "cell_type": "code",
   "execution_count": 9,
   "metadata": {},
   "outputs": [
    {
     "data": {
      "text/plain": [
       "' This is paragraph text used as filler text for a paragraph. '"
      ]
     },
     "execution_count": 9,
     "metadata": {},
     "output_type": "execute_result"
    }
   ],
   "source": [
    "text = \"\"\"\n",
    "This is                                                paragraph\n",
    "\n",
    "                    text\n",
    "\n",
    "\n",
    "                    used as                           filler text\n",
    "                            for\n",
    "                                        a\n",
    "                    paragraph.\n",
    "\n",
    "                    \n",
    "\"\"\"\n",
    "\n",
    "re.sub(r'\\s+', ' ', text)"
   ]
  },
  {
   "cell_type": "markdown",
   "metadata": {},
   "source": [
    "## Correspondencia de cero o más con el signo `*`\n",
    "\n",
    "El operador estrella `*` es utilizado para correspondencia de cero o más  de los patrones que precede. Por ejemplo: \n",
    "\n",
    "```text\n",
    "e*\n",
    "```\n",
    "\n",
    "corresponde a cualquier ocurrencia de cero o más letras consecutivas `e` . El patrón `be*g` corresponde con:\n",
    "\n",
    "```text\n",
    "beg\n",
    "beeeg\n",
    "bg\n",
    "```\n",
    "\n",
    "Ejercicio: Baaa!"
   ]
  },
  {
   "cell_type": "code",
   "execution_count": 10,
   "metadata": {},
   "outputs": [
    {
     "data": {
      "text/plain": [
       "'The first sheep says \"Baa!\" Another sheep says \"Baaaa!!!\". In reply, the sheep says, \\n\"Baaaaaa\". Another \"Baaa\" is heard. Finally, there’s a \"Baaaa!\"\\n'"
      ]
     },
     "execution_count": 10,
     "metadata": {},
     "output_type": "execute_result"
    }
   ],
   "source": [
    "paragraph = \"\"\"The first sheep says \"Baa!\" Another sheep says \"Baaaa!!!\". In reply, the sheep says, \n",
    "\"Baaaaaa\". Another \"Baaa\" is heard. Finally, there’s a \"Baaaa!\"\n",
    "\"\"\"\n",
    "\n",
    "# Convert all to \"Baa!\"\n",
    "re.sub(r'___', '____', paragraph)"
   ]
  },
  {
   "cell_type": "markdown",
   "metadata": {},
   "source": [
    "## Repeticiones especificas y limitadas\n",
    "\n",
    "En algunas ocasiones será necesario hacer correspondencia con algo que se repite más de una vez, pero menos de infinito.\n",
    "\n",
    "### Paréntesis\n",
    "\n",
    "Para capturar **n** repeticiones de un patrón donde **n** es el número de repeticiones, utilizar el siguiente patrón: `a{4}`, esto coincidirá con cuatro caracteres `a` exactamente.\n",
    "\n",
    "**Ejercicio de ceros a millones.**"
   ]
  },
  {
   "cell_type": "code",
   "execution_count": 11,
   "metadata": {},
   "outputs": [],
   "source": [
    "numbers = \"\"\"\n",
    "100\n",
    "2000\n",
    "500000\n",
    "4000000\n",
    "2000000\n",
    "1000000\n",
    "8000\n",
    "9000000\n",
    "\"\"\"\n",
    "\n",
    "# Reemplazar los ceros con millones para los números que tienen exactamente seis ceros."
   ]
  },
  {
   "cell_type": "markdown",
   "metadata": {},
   "source": [
    "Salida esperada: \n",
    "\n",
    "```text\n",
    "100\n",
    "2000\n",
    "500000\n",
    "4 million\n",
    "2 million\n",
    "1 million\n",
    "8000\n",
    "9 million\n",
    "```"
   ]
  },
  {
   "cell_type": "code",
   "execution_count": 12,
   "metadata": {},
   "outputs": [
    {
     "data": {
      "text/plain": [
       "'\\n100\\n2000\\n500000\\n4000000\\n2000000\\n1000000\\n8000\\n9000000\\n'"
      ]
     },
     "execution_count": 12,
     "metadata": {},
     "output_type": "execute_result"
    }
   ],
   "source": [
    "# Convert zeros to millions\"\n",
    "re.sub(r'___', '____', numbers)"
   ]
  },
  {
   "cell_type": "markdown",
   "metadata": {},
   "source": [
    "Repetir el código anterior con los siguientes números:\n"
   ]
  },
  {
   "cell_type": "code",
   "execution_count": 13,
   "metadata": {},
   "outputs": [],
   "source": [
    "numbers_2 = \"\"\"\n",
    "900\n",
    "8000000\n",
    "90000000\n",
    "70000\n",
    "100000000\n",
    "2000000\n",
    "50000000000\n",
    "\"\"\""
   ]
  },
  {
   "cell_type": "markdown",
   "metadata": {},
   "source": [
    "Corregir con el uso de `\\b`"
   ]
  },
  {
   "cell_type": "code",
   "execution_count": null,
   "metadata": {},
   "outputs": [],
   "source": []
  },
  {
   "cell_type": "markdown",
   "metadata": {},
   "source": [
    "### Paréntesis, máximo y no límite de correspondencias\n",
    "\n",
    "Si se quiere coincidir con *m* número de repeticiones, pero menor que *n* número, se puede incluir tanto *m*, como *n* en la notación de paréntesis. \n",
    "\n",
    "```python\n",
    "\n",
    "```"
   ]
  },
  {
   "cell_type": "code",
   "execution_count": 18,
   "metadata": {},
   "outputs": [
    {
     "data": {
      "text/plain": [
       "['000', '0000000']"
      ]
     },
     "execution_count": 18,
     "metadata": {},
     "output_type": "execute_result"
    }
   ],
   "source": [
    "num = \"\"\"\n",
    "000100000000\n",
    "\"\"\"\n",
    "\n",
    "re.findall(r'0{3,7}', num)"
   ]
  },
  {
   "cell_type": "markdown",
   "metadata": {},
   "source": [
    "Si se omite el segundo parámetro (el número máximo de repeticiones) pero se deja la coma:"
   ]
  },
  {
   "cell_type": "code",
   "execution_count": 19,
   "metadata": {},
   "outputs": [
    {
     "data": {
      "text/plain": [
       "['000', '00000000']"
      ]
     },
     "execution_count": 19,
     "metadata": {},
     "output_type": "execute_result"
    }
   ],
   "source": [
    "re.findall(r'0{3,}', num)"
   ]
  },
  {
   "cell_type": "markdown",
   "metadata": {},
   "source": [
    "La regex encontrará correspondencia con una cadena que contiene por lo menos tres o más ceros consecutivos."
   ]
  }
 ],
 "metadata": {
  "kernelspec": {
   "display_name": "mcd-projectsI2025a",
   "language": "python",
   "name": "python3"
  },
  "language_info": {
   "codemirror_mode": {
    "name": "ipython",
    "version": 3
   },
   "file_extension": ".py",
   "mimetype": "text/x-python",
   "name": "python",
   "nbconvert_exporter": "python",
   "pygments_lexer": "ipython3",
   "version": "3.13.0"
  }
 },
 "nbformat": 4,
 "nbformat_minor": 2
}
